{
 "cells": [
  {
   "cell_type": "markdown",
   "metadata": {},
   "source": [
    "# Hashing Strings"
   ]
  },
  {
   "cell_type": "code",
   "execution_count": 2,
   "metadata": {},
   "outputs": [],
   "source": [
    "# PolyHash(S, p, x)\n",
    "\n",
    "# hash <-- 0\n",
    "\n",
    "# for i from |s| - 1 down to 0:\n",
    "    \n",
    "#      hash <-- (hash * x + S|i|) mod p\n",
    "\n",
    "# return hash\n",
    "\n",
    "\n"
   ]
  },
  {
   "cell_type": "markdown",
   "metadata": {},
   "source": [
    "Example:  |S| = 3\n",
    "    \n",
    "    1.hash = 0\n",
    "    \n",
    "    2.hash = S[2] mod p\n",
    "    \n",
    "    3.hash = S[1] + S[2]x mod p\n",
    "    \n",
    "    4.hash = S[0] + S[1]x + S[2]x*x mod p."
   ]
  },
  {
   "cell_type": "markdown",
   "metadata": {},
   "source": [
    "Question: Why is hash = S[1] + S[2]x mod p after iteration 3, instead of hash = (S[1] + (S[2] mod p)x) mod p?\n",
    "    "
   ]
  },
  {
   "cell_type": "markdown",
   "metadata": {},
   "source": [
    "ANswer: Because for any a, b and p the following properties of modulo arithmatic are true:\n",
    "        \n",
    "        1. (a + b mod p) mod p = (a + b) mod p\n",
    "        2. (a mod p)b mod p = ab mod p"
   ]
  },
  {
   "cell_type": "code",
   "execution_count": null,
   "metadata": {},
   "outputs": [],
   "source": []
  }
 ],
 "metadata": {
  "kernelspec": {
   "display_name": "Python 3",
   "language": "python",
   "name": "python3"
  },
  "language_info": {
   "codemirror_mode": {
    "name": "ipython",
    "version": 3
   },
   "file_extension": ".py",
   "mimetype": "text/x-python",
   "name": "python",
   "nbconvert_exporter": "python",
   "pygments_lexer": "ipython3",
   "version": "3.8.2"
  }
 },
 "nbformat": 4,
 "nbformat_minor": 4
}
