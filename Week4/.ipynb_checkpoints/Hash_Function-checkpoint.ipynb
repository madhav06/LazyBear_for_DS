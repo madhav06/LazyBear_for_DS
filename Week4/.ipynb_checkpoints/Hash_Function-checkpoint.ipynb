{
 "cells": [
  {
   "cell_type": "markdown",
   "metadata": {},
   "source": [
    "### Definition:"
   ]
  },
  {
   "cell_type": "markdown",
   "metadata": {},
   "source": [
    " For any set of objects S and any integer m > 0, a function h: S ->    { 0, 1, . . ., m - 1 } is called a hash function."
   ]
  },
  {
   "cell_type": "markdown",
   "metadata": {},
   "source": [
    "note: m is always positive, and m is called the cardinality of hash function h."
   ]
  },
  {
   "cell_type": "markdown",
   "metadata": {},
   "source": [
    "### Desirable properties of Hash Function:"
   ]
  },
  {
   "cell_type": "markdown",
   "metadata": {},
   "source": [
    "1. 'h' should be fast to compute.\n",
    "\n",
    "2. Different values for different objects.\n",
    "\n",
    "3. Direct addressing with O(m) very small memory.\n",
    "\n",
    "4. small cardinality 'm'.\n",
    "\n",
    "5. Impossible to have all different values if number of objects |S| is more than 'm'."
   ]
  },
  {
   "cell_type": "markdown",
   "metadata": {},
   "source": [
    "### Collisions:"
   ]
  },
  {
   "cell_type": "markdown",
   "metadata": {},
   "source": [
    "Collisions happen when h(o1) = h(o2) and o1 != o2, this is mandatory for collision.\n",
    "\n",
    "\n",
    "Note: here h(o1) read as: h of o sub 1.\n",
    "\n",
    "similarly,  h(o2) read as: h of o sub 2."
   ]
  },
  {
   "cell_type": "code",
   "execution_count": null,
   "metadata": {},
   "outputs": [],
   "source": []
  }
 ],
 "metadata": {
  "kernelspec": {
   "display_name": "Python 3",
   "language": "python",
   "name": "python3"
  },
  "language_info": {
   "codemirror_mode": {
    "name": "ipython",
    "version": 3
   },
   "file_extension": ".py",
   "mimetype": "text/x-python",
   "name": "python",
   "nbconvert_exporter": "python",
   "pygments_lexer": "ipython3",
   "version": "3.8.2"
  }
 },
 "nbformat": 4,
 "nbformat_minor": 4
}
