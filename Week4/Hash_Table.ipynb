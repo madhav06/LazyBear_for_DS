{
 "cells": [
  {
   "cell_type": "markdown",
   "metadata": {},
   "source": [
    "#### Set"
   ]
  },
  {
   "cell_type": "raw",
   "metadata": {},
   "source": [
    "Set is a data structure with methods \n",
    "like Add(O), Remove(O), Find(O)."
   ]
  },
  {
   "cell_type": "raw",
   "metadata": {},
   "source": [
    "Examples:\n",
    "    \n",
    "IPs accessed during last hour,\n",
    "\n",
    "Students on campus\n",
    "\n",
    "Keywords in a programming language."
   ]
  },
  {
   "cell_type": "raw",
   "metadata": {},
   "source": [
    "h: S --> {0, 1, ....., m-1}\n",
    "O, O' element of S.\n",
    "\n",
    "A = array of m lists(chains) of objects O.\n",
    "\n"
   ]
  },
  {
   "cell_type": "markdown",
   "metadata": {},
   "source": [
    "#### Find(O)"
   ]
  },
  {
   "cell_type": "raw",
   "metadata": {},
   "source": [
    "L = A[h(O)]\n",
    "for O' in L:\n",
    "    if O' == O:\n",
    "    return true\n",
    "\n",
    "return false"
   ]
  },
  {
   "cell_type": "code",
   "execution_count": null,
   "metadata": {},
   "outputs": [],
   "source": []
  },
  {
   "cell_type": "markdown",
   "metadata": {},
   "source": [
    "#### Add(O)"
   ]
  },
  {
   "cell_type": "raw",
   "metadata": {},
   "source": [
    "L = A[h(O)]\n",
    "for O' in L:\n",
    "    if O' == O:\n",
    "    return \n",
    "\n",
    "L.Append(O)"
   ]
  },
  {
   "cell_type": "markdown",
   "metadata": {},
   "source": [
    "#### Remove(O)"
   ]
  },
  {
   "cell_type": "raw",
   "metadata": {},
   "source": [
    "if not Find(O):\n",
    "    return\n",
    "L = A[h(O)]\n",
    "L.Erase(O)"
   ]
  },
  {
   "cell_type": "code",
   "execution_count": null,
   "metadata": {},
   "outputs": [],
   "source": []
  },
  {
   "cell_type": "markdown",
   "metadata": {},
   "source": [
    "# Definition of Hash Table:"
   ]
  },
  {
   "cell_type": "markdown",
   "metadata": {},
   "source": [
    "An implementation of a set or a map using hashing is called hash table."
   ]
  },
  {
   "cell_type": "code",
   "execution_count": null,
   "metadata": {},
   "outputs": [],
   "source": []
  }
 ],
 "metadata": {
  "kernelspec": {
   "display_name": "Python 3",
   "language": "python",
   "name": "python3"
  },
  "language_info": {
   "codemirror_mode": {
    "name": "ipython",
    "version": 3
   },
   "file_extension": ".py",
   "mimetype": "text/x-python",
   "name": "python",
   "nbconvert_exporter": "python",
   "pygments_lexer": "ipython3",
   "version": "3.8.2"
  }
 },
 "nbformat": 4,
 "nbformat_minor": 4
}
