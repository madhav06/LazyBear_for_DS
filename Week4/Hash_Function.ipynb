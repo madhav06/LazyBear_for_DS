{
 "cells": [
  {
   "cell_type": "markdown",
   "metadata": {},
   "source": [
    "# Hash Function"
   ]
  },
  {
   "cell_type": "markdown",
   "metadata": {},
   "source": [
    "### Definition of hash function:"
   ]
  },
  {
   "cell_type": "markdown",
   "metadata": {},
   "source": [
    " ### For any set of objects S and any integer m > 0, a function h: S ->    { 0, 1, . . ., m - 1 } is called a hash function.\n",
    " ### note: m is always positive, and m is called the cardinality of hash function h."
   ]
  },
  {
   "cell_type": "markdown",
   "metadata": {},
   "source": []
  },
  {
   "cell_type": "markdown",
   "metadata": {},
   "source": [
    "### Desirable properties of Hash Function:"
   ]
  },
  {
   "cell_type": "markdown",
   "metadata": {},
   "source": [
    "1. 'h' should be fast to compute.\n",
    "\n",
    "2. Different values for different objects.\n",
    "\n",
    "3. Direct addressing with O(m) very small memory.\n",
    "\n",
    "4. small cardinality 'm'.\n",
    "\n",
    "5. Impossible to have all different values if number of objects |S| is more than 'm'."
   ]
  },
  {
   "cell_type": "markdown",
   "metadata": {},
   "source": [
    "### Collisions:"
   ]
  },
  {
   "cell_type": "markdown",
   "metadata": {},
   "source": [
    "Collisions happen when h(o1) = h(o2) and o1 != o2, this is mandatory for collision.\n",
    "\n",
    "\n",
    "Note: here h(o1) read as: h of o sub 1.\n",
    "\n",
    "similarly,  h(o2) read as: h of o sub 2."
   ]
  },
  {
   "cell_type": "code",
   "execution_count": null,
   "metadata": {},
   "outputs": [],
   "source": []
  },
  {
   "cell_type": "markdown",
   "metadata": {},
   "source": [
    "# Chaining Schemes\n",
    "\n",
    "\n"
   ]
  },
  {
   "cell_type": "markdown",
   "metadata": {},
   "source": [
    "### Definition:"
   ]
  },
  {
   "cell_type": "markdown",
   "metadata": {},
   "source": [
    "### Map from S to V is a data structure with methods HasKey(O), Get(O), Set(O, v), \n",
    "### where O is element of S, v is element of V."
   ]
  },
  {
   "cell_type": "markdown",
   "metadata": {},
   "source": [
    "                                                            \n",
    "                                                            \n",
    "                                                      h(173.194.71.102) = 4\n",
    "     \n",
    "                                                      h(69.171.230.68) = 1\n",
    "                                                      h(91.210.105.134) = 4\n",
    "\n",
    "\n",
    "\n",
    "\n",
    "\n",
    "\n",
    "0                                                       \n",
    "\n",
    "1 --> [69.171.230.68][1]\n",
    "\n",
    "2\n",
    "\n",
    "3\n",
    "\n",
    "4 --> [173.194.71.102][2] --> [91.210.105.134][1]\n",
    "\n",
    "5\n",
    "\n",
    "6\n",
    "\n",
    "7\n",
    "\n",
    "\n",
    "if we add on further and further then this is called chaining. "
   ]
  },
  {
   "cell_type": "code",
   "execution_count": null,
   "metadata": {},
   "outputs": [],
   "source": []
  },
  {
   "cell_type": "markdown",
   "metadata": {},
   "source": [
    "### Chaining Implementation in code:"
   ]
  },
  {
   "cell_type": "markdown",
   "metadata": {},
   "source": [
    "\n",
    "\n",
    "\n",
    "h: S --> {0, 1, . . . . , m - 1}\n",
    "\n",
    "O, O' element of S. (object O)\n",
    "\n",
    "v, v' element of V. (vertex, vertices v)\n",
    "\n",
    "A = array of 'm' lists (chains) of pairs (O, v).\n"
   ]
  },
  {
   "cell_type": "markdown",
   "metadata": {},
   "source": [
    "#### HasKey(O)"
   ]
  },
  {
   "cell_type": "raw",
   "metadata": {},
   "source": [
    "L = A[h(O)]\n",
    "\n",
    "for (O', v') in L:\n",
    "    \n",
    "    if O' == O:\n",
    "    return true\n",
    "return false"
   ]
  },
  {
   "cell_type": "markdown",
   "metadata": {},
   "source": [
    "#### Get(O)"
   ]
  },
  {
   "cell_type": "raw",
   "metadata": {},
   "source": [
    "L = A[h(O)]\n",
    "for (O', v') in L:\n",
    "    if O' == O:\n",
    "    return v'\n",
    "return n/a\n"
   ]
  },
  {
   "cell_type": "markdown",
   "metadata": {},
   "source": [
    "#### Set(O,v)"
   ]
  },
  {
   "cell_type": "raw",
   "metadata": {},
   "source": [
    "L = A[h(O)]\n",
    "for p in L:\n",
    "    if p.O == O:\n",
    "    p.v = v\n",
    "    return\n",
    "    \n",
    "L.Append(O,v)"
   ]
  },
  {
   "cell_type": "markdown",
   "metadata": {},
   "source": [
    "#### Lemma 1:"
   ]
  },
  {
   "cell_type": "raw",
   "metadata": {},
   "source": [
    "Let c be the length of the longest chain in A. \n",
    "Then the running time of HasKey, Get, Set is theta(c + 1)."
   ]
  },
  {
   "cell_type": "markdown",
   "metadata": {},
   "source": [
    "#### Lemma 2:"
   ]
  },
  {
   "cell_type": "markdown",
   "metadata": {},
   "source": [
    "Let n be the number of different keys O\n",
    "currently in the map and m"
   ]
  }
 ],
 "metadata": {
  "kernelspec": {
   "display_name": "Python 3",
   "language": "python",
   "name": "python3"
  },
  "language_info": {
   "codemirror_mode": {
    "name": "ipython",
    "version": 3
   },
   "file_extension": ".py",
   "mimetype": "text/x-python",
   "name": "python",
   "nbconvert_exporter": "python",
   "pygments_lexer": "ipython3",
   "version": "3.8.2"
  }
 },
 "nbformat": 4,
 "nbformat_minor": 4
}
