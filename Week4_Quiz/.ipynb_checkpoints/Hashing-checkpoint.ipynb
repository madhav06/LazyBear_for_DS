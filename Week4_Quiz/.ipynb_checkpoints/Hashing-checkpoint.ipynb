{
 "cells": [
  {
   "cell_type": "markdown",
   "metadata": {},
   "source": [
    "# Hashing"
   ]
  },
  {
   "cell_type": "markdown",
   "metadata": {},
   "source": [
    "1. What is the minimum size of an array that can be used in the direct addressing scheme to store a map from 7-digit phone numbers to names?\n",
    "\n",
    "\n",
    "Answer: 10000000 \n",
    "\n",
    "Explanation: because, 7-digit phone numbers correspond to integers from 0 to 9999999."
   ]
  },
  {
   "cell_type": "markdown",
   "metadata": {},
   "source": [
    "2. If it is guaranteed that the total length of all occurances of a 'Pattern' in a 'Text' is at most L, which of the below estimates of the average running time of Rabin-Karp's algorithm to find all occurances of the 'Pattern' in the 'Text' is the most tight out of the correct ones?\n",
    "\n",
    "Answer: O(|Text| + |Pattern| + L)\n",
    "\n",
    "Explanation: Correct is this! Estimates from the lecture is O(|Text| + (q + 1)|Pattern|), where q is the number of occurances of the 'Pattern' in the 'Text', and L = q|Pattern| in this case."
   ]
  },
  {
   "cell_type": "markdown",
   "metadata": {},
   "source": [
    "3. Let us slightly change the polynomial hash function for strings and set h(S) = ( \n",
    "j=0\n",
    "∑\n",
    "∣S∣−1\n",
    "​\t\n",
    " x \n",
    "∣S∣−1−j\n",
    " S[j])mod p. Let us fix some 'Text' and some 'Pattern'. Denote by H[i]H[i] the hash function of the substring Text[i..i+|Pattern|-1]Text[i..i+∣Pattern∣−1] of the TextText starting from position ii and having the same length as PatternPattern (for all appropriate positions ii where the PatternPattern can occur in the TextText). Which of the below formulas is the correct recurrence to compute H[i + 1]H[i+1] given H[i]H[i]?\n",
    " \n",
    "]\n",
    "Answer: H[i + 1] = (xH[i] + Text[i + |Pattern|] - x^|Pattern| * Text[i]) mod p.\n",
    "\n",
    "Explanation: When we move one position to the right from position i, each term must increase the power of x in it by one, the first term x^|Pattern| * Text[i] must be subtracted after that, and a new term Text[i + |Pattern|] must be added.\n",
    "\n",
    "\n",
    "Detailed answer: See Screenshot hash_3.\n",
    "\n"
   ]
  },
  {
   "cell_type": "code",
   "execution_count": null,
   "metadata": {},
   "outputs": [],
   "source": []
  }
 ],
 "metadata": {
  "kernelspec": {
   "display_name": "Python 3",
   "language": "python",
   "name": "python3"
  },
  "language_info": {
   "codemirror_mode": {
    "name": "ipython",
    "version": 3
   },
   "file_extension": ".py",
   "mimetype": "text/x-python",
   "name": "python",
   "nbconvert_exporter": "python",
   "pygments_lexer": "ipython3",
   "version": "3.8.2"
  }
 },
 "nbformat": 4,
 "nbformat_minor": 4
}
