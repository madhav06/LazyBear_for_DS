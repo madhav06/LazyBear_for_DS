{
 "cells": [
  {
   "cell_type": "markdown",
   "metadata": {},
   "source": [
    "1. What is going to happen if you forget to splay the last accessed vertex in the implementation of 'Find' in case the key was not found in the splay tree?"
   ]
  },
  {
   "cell_type": "markdown",
   "metadata": {},
   "source": [
    "Answer: The tree will work too slow on some sequences of operations."
   ]
  },
  {
   "cell_type": "markdown",
   "metadata": {},
   "source": [
    "Explanation: After inserting n elements in the tree in the perfect order, if you look for an element that is smaller than all the keys in the tree n times, then each of the last n operations will take O(n) time, so the tree no longer works in amortized O(log n) time."
   ]
  },
  {
   "cell_type": "markdown",
   "metadata": {},
   "source": [
    "2. What will happen if you splay the node with the smallest key in a splay tree?"
   ]
  },
  {
   "cell_type": "markdown",
   "metadata": {},
   "source": [
    "Answer: The root of the new tree won't have left child."
   ]
  },
  {
   "cell_type": "markdown",
   "metadata": {},
   "source": [
    "Explanation: The node with the smallest key will become the root after splaying, and it cannot have a left child, because the key of the left child must be smaller than the key of its parent."
   ]
  },
  {
   "cell_type": "markdown",
   "metadata": {},
   "source": [
    "3. What will happen if you select a node N, splay its predecessor P(the node with the largest key smaller than the key of N), then splay the node N itself?"
   ]
  },
  {
   "cell_type": "markdown",
   "metadata": {},
   "source": [
    "Answer: N will be the root, P will be the left child of the root, P won't have a right child."
   ]
  },
  {
   "cell_type": "markdown",
   "metadata": {},
   "source": [
    "Explanation: After the first splay, P will become the root. After the second splay, N will become the root, and P will become its child, and it will be on the left, because its key is smaller. P won't have a right child, because a right child of P must have key bigger than the key of P, and also it must have key smaller than the key of N (because it is now in the left subtree of N), but it can't happen, because P is the predecessor of N, so there are no keys between the key of PP and the key of N."
   ]
  },
  {
   "cell_type": "code",
   "execution_count": null,
   "metadata": {},
   "outputs": [],
   "source": []
  }
 ],
 "metadata": {
  "kernelspec": {
   "display_name": "Python 3",
   "language": "python",
   "name": "python3"
  },
  "language_info": {
   "codemirror_mode": {
    "name": "ipython",
    "version": 3
   },
   "file_extension": ".py",
   "mimetype": "text/x-python",
   "name": "python",
   "nbconvert_exporter": "python",
   "pygments_lexer": "ipython3",
   "version": "3.8.2"
  }
 },
 "nbformat": 4,
 "nbformat_minor": 4
}
