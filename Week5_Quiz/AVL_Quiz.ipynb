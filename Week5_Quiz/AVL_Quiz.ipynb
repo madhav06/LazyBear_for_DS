{
 "cells": [
  {
   "cell_type": "markdown",
   "metadata": {},
   "source": [
    "1. our colleague proposed a different definition of a binary search tree: it is such binary tree with keys in the nodes that for each node the key of its left child (if exists) is less than its key, and the key of its right child (if exists) is bigger than its key. Is this a good definition for a binary search tree?\n",
    "\n",
    "\n",
    "Answer: No"
   ]
  },
  {
   "cell_type": "code",
   "execution_count": null,
   "metadata": {},
   "outputs": [],
   "source": []
  },
  {
   "cell_type": "markdown",
   "metadata": {},
   "source": [
    "2. Suppose we enforce the AVL tree condition only for the root of the tree, but not for all the nodes. Can such tree be unbalanced?\n",
    "\n",
    "Answer: Yes, Correct! Such tree could have height {n}/{2}, where n is the number of nodes: two chains of length {n}/{2} having root as the only common node form such a tree."
   ]
  },
  {
   "cell_type": "markdown",
   "metadata": {},
   "source": [
    "3. Can the Insert operation be implemented given only Split and Merge operations?\n",
    "\n",
    "\n",
    "Answer: Yes, First create a new tree with single key - the key to be inserted. Then split the current tree by this key. Then merge the left splitted part with the new tree. Then merge the result with the right splitted part."
   ]
  },
  {
   "cell_type": "markdown",
   "metadata": {},
   "source": [
    "4. Can the Delete operation be implemented given only Split and Merge operations?\n",
    "\n",
    "Answer: Yes, Suppose we are deleting key x. Split by the key twice: one split such that all the keys < x go to the left and all the keys >= x go to the right. Then split the right part of the first split such that all the keys <= x go to the left and all the keys > x go to the right. Then merge the left part of the first split and the right part of the second split - thus leaving out the node with key x if there was such a node."
   ]
  },
  {
   "cell_type": "code",
   "execution_count": null,
   "metadata": {},
   "outputs": [],
   "source": []
  }
 ],
 "metadata": {
  "kernelspec": {
   "display_name": "Python 3",
   "language": "python",
   "name": "python3"
  },
  "language_info": {
   "codemirror_mode": {
    "name": "ipython",
    "version": 3
   },
   "file_extension": ".py",
   "mimetype": "text/x-python",
   "name": "python",
   "nbconvert_exporter": "python",
   "pygments_lexer": "ipython3",
   "version": "3.8.2"
  }
 },
 "nbformat": 4,
 "nbformat_minor": 4
}
