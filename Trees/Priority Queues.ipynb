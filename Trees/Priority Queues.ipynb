{
 "cells": [
  {
   "cell_type": "markdown",
   "metadata": {},
   "source": [
    "# Priority Queues with Binary Heaps"
   ]
  },
  {
   "cell_type": "markdown",
   "metadata": {},
   "source": [
    "The highest priority items are at the front of the queue and the lowest priority items are at the back."
   ]
  },
  {
   "cell_type": "markdown",
   "metadata": {},
   "source": [
    "When you enqueue an item on a priority queue, the new item may move all the way \n",
    "to the front depending upon the priority."
   ]
  },
  {
   "cell_type": "markdown",
   "metadata": {},
   "source": [
    "A classical way to implement a priority queue is using a data structure called a \"binary heap\"."
   ]
  },
  {
   "cell_type": "markdown",
   "metadata": {},
   "source": [
    "### formally, priority queue is an abstract data type which supports the following two main operations:\n",
    "\n",
    "### Insert(p) adds a new element with priority p.\n",
    "\n",
    "### ExtractMax() extracts an element with maximum priority."
   ]
  },
  {
   "cell_type": "markdown",
   "metadata": {},
   "source": [
    "### Additional Operations: "
   ]
  },
  {
   "cell_type": "markdown",
   "metadata": {},
   "source": [
    "Remove(it) removes an element pointed by an iterator 'it'."
   ]
  },
  {
   "cell_type": "markdown",
   "metadata": {},
   "source": [
    "GetMax() returns an element with maximum priority (without changing set of elements)."
   ]
  },
  {
   "cell_type": "markdown",
   "metadata": {},
   "source": [
    "ChangePriority(it, p) changes the priority of an element pointed by 'it' to 'p'."
   ]
  },
  {
   "cell_type": "code",
   "execution_count": 2,
   "metadata": {},
   "outputs": [],
   "source": [
    "# # Algorithms that uses priority queues:\n",
    "\n",
    "# 1. Dijsktra's algorithm\n",
    "\n",
    "# 2. Prim's algorithm\n",
    "\n",
    "# 3. Huffman's algorithm\n",
    "\n",
    "# 4. Heap sort"
   ]
  },
  {
   "cell_type": "markdown",
   "metadata": {},
   "source": [
    "# Binary Heap Insertion"
   ]
  },
  {
   "cell_type": "markdown",
   "metadata": {},
   "source": [
    "1. Insert at the end.\n",
    "\n",
    "\n",
    "2. Shift Up."
   ]
  },
  {
   "cell_type": "markdown",
   "metadata": {},
   "source": [
    "# Binary Heap Extraction"
   ]
  },
  {
   "cell_type": "markdown",
   "metadata": {},
   "source": [
    "1. Swap root with the last node.\n",
    "\n",
    "\n",
    "2. Shift Down"
   ]
  },
  {
   "cell_type": "markdown",
   "metadata": {},
   "source": [
    "# Implement priority queue using heapq"
   ]
  },
  {
   "cell_type": "code",
   "execution_count": 17,
   "metadata": {},
   "outputs": [],
   "source": [
    "import heapq"
   ]
  },
  {
   "cell_type": "code",
   "execution_count": 18,
   "metadata": {},
   "outputs": [],
   "source": [
    "qu = []"
   ]
  },
  {
   "cell_type": "code",
   "execution_count": 19,
   "metadata": {},
   "outputs": [],
   "source": [
    "heapq.heappush(qu, (5, 'data5'))\n",
    "heapq.heappush(qu, (1, 'data1'))    # highest priority\n",
    "heapq.heappush(qu, (3, 'data3'))\n",
    "heapq.heappush(qu, (2, 'data2'))\n",
    "heapq.heappush(qu, (4, 'data4'))"
   ]
  },
  {
   "cell_type": "code",
   "execution_count": 20,
   "metadata": {},
   "outputs": [
    {
     "data": {
      "text/plain": [
       "(1, 'data1')"
      ]
     },
     "execution_count": 20,
     "metadata": {},
     "output_type": "execute_result"
    }
   ],
   "source": [
    "heapq.heappop(qu)"
   ]
  },
  {
   "cell_type": "code",
   "execution_count": 21,
   "metadata": {},
   "outputs": [
    {
     "data": {
      "text/plain": [
       "(2, 'data2')"
      ]
     },
     "execution_count": 21,
     "metadata": {},
     "output_type": "execute_result"
    }
   ],
   "source": [
    "heapq.heappop(qu)"
   ]
  },
  {
   "cell_type": "code",
   "execution_count": 22,
   "metadata": {},
   "outputs": [
    {
     "data": {
      "text/plain": [
       "(3, 'data3')"
      ]
     },
     "execution_count": 22,
     "metadata": {},
     "output_type": "execute_result"
    }
   ],
   "source": [
    "heapq.heappop(qu)"
   ]
  },
  {
   "cell_type": "code",
   "execution_count": 23,
   "metadata": {},
   "outputs": [
    {
     "data": {
      "text/plain": [
       "(4, 'data4')"
      ]
     },
     "execution_count": 23,
     "metadata": {},
     "output_type": "execute_result"
    }
   ],
   "source": [
    "heapq.heappop(qu)"
   ]
  },
  {
   "cell_type": "code",
   "execution_count": 24,
   "metadata": {},
   "outputs": [
    {
     "data": {
      "text/plain": [
       "(5, 'data5')"
      ]
     },
     "execution_count": 24,
     "metadata": {},
     "output_type": "execute_result"
    }
   ],
   "source": [
    "heapq.heappop(qu)"
   ]
  },
  {
   "cell_type": "code",
   "execution_count": 25,
   "metadata": {},
   "outputs": [
    {
     "ename": "IndexError",
     "evalue": "index out of range",
     "output_type": "error",
     "traceback": [
      "\u001b[0;31m---------------------------------------------------------------------------\u001b[0m",
      "\u001b[0;31mIndexError\u001b[0m                                Traceback (most recent call last)",
      "\u001b[0;32m<ipython-input-25-ac58b28ec89c>\u001b[0m in \u001b[0;36m<module>\u001b[0;34m\u001b[0m\n\u001b[0;32m----> 1\u001b[0;31m \u001b[0mheapq\u001b[0m\u001b[0;34m.\u001b[0m\u001b[0mheappop\u001b[0m\u001b[0;34m(\u001b[0m\u001b[0mqu\u001b[0m\u001b[0;34m)\u001b[0m\u001b[0;34m\u001b[0m\u001b[0;34m\u001b[0m\u001b[0m\n\u001b[0m",
      "\u001b[0;31mIndexError\u001b[0m: index out of range"
     ]
    }
   ],
   "source": [
    "heapq.heappop(qu)"
   ]
  },
  {
   "cell_type": "markdown",
   "metadata": {},
   "source": [
    "### Since we retrieved all the items by now, so accessing again will throw \"IndexError\"."
   ]
  },
  {
   "cell_type": "code",
   "execution_count": null,
   "metadata": {},
   "outputs": [],
   "source": []
  },
  {
   "cell_type": "markdown",
   "metadata": {},
   "source": [
    "# Priority Queues with Heaps: Pseudocode"
   ]
  },
  {
   "cell_type": "code",
   "execution_count": 27,
   "metadata": {},
   "outputs": [],
   "source": [
    "# maxSize: is the maximum number of element in the heap.\n",
    "\n",
    "#size: is the size of the heap.\n",
    "\n",
    "#H[1... maxSize]: is an array of length maxSize where the heap occupies the first size elements."
   ]
  },
  {
   "cell_type": "markdown",
   "metadata": {},
   "source": [
    "# ShiftUp(i)"
   ]
  },
  {
   "cell_type": "raw",
   "metadata": {},
   "source": [
    " while i > 1 and H[parent(i)] < H[i]:\n",
    "   swap H[Parent(i)] and H[i]\n",
    "   i = Parent(i) "
   ]
  },
  {
   "cell_type": "code",
   "execution_count": null,
   "metadata": {},
   "outputs": [],
   "source": []
  },
  {
   "cell_type": "markdown",
   "metadata": {},
   "source": [
    "# ShiftDown(i)"
   ]
  },
  {
   "cell_type": "raw",
   "metadata": {},
   "source": [
    "maxIndex = i\n",
    "l = LeftChild(i)\n",
    "if l <= size and H[l] > H[maxIndex]:\n",
    "    maxIndex = l\n",
    "    \n",
    "r = RightChild(i)\n",
    "if r <= size and H[r] > H[maxIndex]:\n",
    "    maxIndex = r\n",
    "if i != maxIndex:\n",
    "    swap H[i] and H[maxIndex]\n",
    "    ShiftDown(maxIndex)"
   ]
  },
  {
   "cell_type": "code",
   "execution_count": null,
   "metadata": {},
   "outputs": [],
   "source": []
  },
  {
   "cell_type": "markdown",
   "metadata": {},
   "source": [
    "# Insert(p)"
   ]
  },
  {
   "cell_type": "raw",
   "metadata": {},
   "source": [
    "if size = maxSize:\n",
    "    return Error\n",
    "size = size + 1\n",
    "H[size] = p\n",
    "ShiftUp(size)"
   ]
  },
  {
   "cell_type": "markdown",
   "metadata": {},
   "source": [
    "# ExtractMax()"
   ]
  },
  {
   "cell_type": "raw",
   "metadata": {},
   "source": [
    "result = H[1]\n",
    "H[1] = H[size]\n",
    "size = size - 1\n",
    "ShiftDown(1)\n",
    "return result"
   ]
  },
  {
   "cell_type": "markdown",
   "metadata": {},
   "source": [
    "# Remove(i)"
   ]
  },
  {
   "cell_type": "raw",
   "metadata": {},
   "source": [
    "H[i] = infinity\n",
    "ShiftUp(i)\n",
    "ExtractMax()"
   ]
  },
  {
   "cell_type": "markdown",
   "metadata": {},
   "source": [
    "# ChangePriority(i, p)"
   ]
  },
  {
   "cell_type": "raw",
   "metadata": {},
   "source": [
    "oldp = H[i]\n",
    "H[i] = p\n",
    "if p > oldp:\n",
    "    ShiftUp(i)\n",
    "else:\n",
    "    ShiftDown(i)"
   ]
  },
  {
   "cell_type": "code",
   "execution_count": null,
   "metadata": {},
   "outputs": [],
   "source": []
  }
 ],
 "metadata": {
  "kernelspec": {
   "display_name": "Python 3",
   "language": "python",
   "name": "python3"
  },
  "language_info": {
   "codemirror_mode": {
    "name": "ipython",
    "version": 3
   },
   "file_extension": ".py",
   "mimetype": "text/x-python",
   "name": "python",
   "nbconvert_exporter": "python",
   "pygments_lexer": "ipython3",
   "version": "3.8.2"
  }
 },
 "nbformat": 4,
 "nbformat_minor": 4
}
