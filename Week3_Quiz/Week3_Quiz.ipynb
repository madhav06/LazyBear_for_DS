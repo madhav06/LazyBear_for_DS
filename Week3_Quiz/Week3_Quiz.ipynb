{
 "cells": [
  {
   "cell_type": "markdown",
   "metadata": {},
   "source": [
    "1. Which of the basic data structures is the most suitable if you need to access its elements \n",
    "by their positions in O(1)O(1) time (this is called random access)?"
   ]
  },
  {
   "cell_type": "markdown",
   "metadata": {},
   "source": [
    "Answer: Array\n",
    "\n",
    "Assertion: Arrays are best for lookups or accessing elements."
   ]
  },
  {
   "cell_type": "markdown",
   "metadata": {},
   "source": [
    "2. Which of the basic data structures is the most suitable if you want to be able to insert elements in the middle in O(1)?"
   ]
  },
  {
   "cell_type": "markdown",
   "metadata": {},
   "source": [
    "Answer: List\n",
    "\n",
    "Assertion: Inserting an element after an existing element in a list is O(1), even if it is in the middle of the list."
   ]
  },
  {
   "cell_type": "markdown",
   "metadata": {},
   "source": [
    "3. Which of the basic data structures is the most suitable if you only need to insert the elements in the back and to extract elements from the front?"
   ]
  },
  {
   "cell_type": "markdown",
   "metadata": {},
   "source": [
    "Answer: Queue\n",
    "    \n",
    "Assertion: In queue type of data structures we insert from back and extract from front."
   ]
  },
  {
   "cell_type": "markdown",
   "metadata": {},
   "source": [
    "4. Which of the basic data structures is the most suitable if you only need to implement recursion in a programming language? When you make a recursive call, you need to save the function you are currently in and its parameters values in some data structure, so that when you go out of the recursion you can restore the state. When you go out of the recursive call, you will always need to extract the last element that was put in the data structure."
   ]
  },
  {
   "cell_type": "markdown",
   "metadata": {},
   "source": [
    "Answer: Stack\n",
    "    \n",
    "Assertion: We put the function and its parameters values on the stack when we make recursive call, and remove the top element of the stack when we go out of the recursive call. Stack is LIFO - last in first out, so It will always extract the last element that was put on the stack."
   ]
  },
  {
   "cell_type": "markdown",
   "metadata": {},
   "source": [
    "5. Which of the basic data structures is the most suitable if you need to store the directory structure on your hard drive?"
   ]
  },
  {
   "cell_type": "markdown",
   "metadata": {},
   "source": [
    "Answer: Tree\n",
    "    \n",
    "Assertion: The directory structure is a tree, so it is good to store it as a tree data structure."
   ]
  },
  {
   "cell_type": "code",
   "execution_count": null,
   "metadata": {},
   "outputs": [],
   "source": []
  },
  {
   "cell_type": "markdown",
   "metadata": {},
   "source": [
    "# Priority Queues and Disjoint Sets Quiz 3:"
   ]
  },
  {
   "cell_type": "markdown",
   "metadata": {},
   "source": [
    "1. You know from the lectures that a heap can be built from an array of nn integers in O(n) time. Heap is ordered such that each parent node has a key that is bigger than both children's keys. So it seems like we can sort an array of nn arbitrary integers in O(n) time by building a heap from it. Is it true?"
   ]
  },
  {
   "cell_type": "markdown",
   "metadata": {},
   "source": [
    "\n",
    "ANSWER:\n",
    "\n",
    "No! Although the key of each parent node is bigger than the keys of the children, the keys can be not ordered from the biggest to the smallest. For example, with just three numbers 3 1 2312 the head element 33 is bigger than both children 11 and 22, but their relative order is wrong. Also it is impossible to sort n objects based only on results of comparisons of pairs of objects faster than in O(nlogn) time."
   ]
  },
  {
   "cell_type": "code",
   "execution_count": null,
   "metadata": {},
   "outputs": [],
   "source": []
  },
  {
   "cell_type": "markdown",
   "metadata": {},
   "source": [
    "2. You've organized a party, and your new robot is going to meet and greet the guests. However, you need to program your robot to specify in which order to greet the guests. Of course, guests who came earlier should be greeted before those who came later. If several guests came at the same time or together, however, you want to greet first the older guests to show them your respect. You want to use a min-heap in the program to determine which guest to greet next. What should be the comparison operator of the min-heap in this case?"
   ]
  },
  {
   "cell_type": "markdown",
   "metadata": {},
   "source": [
    "ANSWER:"
   ]
  },
  {
   "cell_type": "code",
   "execution_count": 2,
   "metadata": {},
   "outputs": [],
   "source": [
    "def GreetBefore(A, B):\n",
    "    if A.arrival_time != B.arrival_time:\n",
    "        return A.arrival_time < B.arrival_time\n",
    "    return A.age > B.age"
   ]
  },
  {
   "cell_type": "markdown",
   "metadata": {},
   "source": [
    "Explanation: Correct! If the guests come at different times, the one who came earlier will be greeted before. If the guests came at the same time, the older one will be greeted earlier."
   ]
  },
  {
   "cell_type": "code",
   "execution_count": null,
   "metadata": {},
   "outputs": [],
   "source": []
  },
  {
   "cell_type": "markdown",
   "metadata": {},
   "source": [
    "3. You want to implement a Disjoint Set Union data structure using both path compression and rank heuristics. You also want to store the size of each set to retrieve it in O(1). To do this, you've already created a class to store the nodes of DSU and implemented the FindFind method using the path compression heuristic. You now need to implement the UnionUnion method which will both use rank heuristics and update the size of the set. Which one is the correct implementation?"
   ]
  },
  {
   "cell_type": "markdown",
   "metadata": {},
   "source": [
    "\n",
    "ANSWER:"
   ]
  },
  {
   "cell_type": "code",
   "execution_count": null,
   "metadata": {},
   "outputs": [],
   "source": [
    "def Union(a, b):\n",
    "    pa = Find(a)\n",
    "    pb = Find(b)\n",
    "    if pa.rank <= pb.rank:\n",
    "        pa.parent = pb\n",
    "        pb.Size += "
   ]
  }
 ],
 "metadata": {
  "kernelspec": {
   "display_name": "Python 3",
   "language": "python",
   "name": "python3"
  },
  "language_info": {
   "codemirror_mode": {
    "name": "ipython",
    "version": 3
   },
   "file_extension": ".py",
   "mimetype": "text/x-python",
   "name": "python",
   "nbconvert_exporter": "python",
   "pygments_lexer": "ipython3",
   "version": "3.8.2"
  }
 },
 "nbformat": 4,
 "nbformat_minor": 4
}
