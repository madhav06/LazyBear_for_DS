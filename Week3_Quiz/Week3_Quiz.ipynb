{
 "cells": [
  {
   "cell_type": "markdown",
   "metadata": {},
   "source": [
    "1. Which of the basic data structures is the most suitable if you need to access its elements \n",
    "by their positions in O(1)O(1) time (this is called random access)?"
   ]
  },
  {
   "cell_type": "markdown",
   "metadata": {},
   "source": [
    "Answer: Array\n",
    "\n",
    "Assertion: Arrays are best for lookups or accessing elements."
   ]
  },
  {
   "cell_type": "markdown",
   "metadata": {},
   "source": [
    "2. Which of the basic data structures is the most suitable if you want to be able to insert elements in the middle in O(1)?"
   ]
  },
  {
   "cell_type": "markdown",
   "metadata": {},
   "source": [
    "Answer: List\n",
    "\n",
    "Assertion: Inserting an element after an existing element in a list is O(1), even if it is in the middle of the list."
   ]
  },
  {
   "cell_type": "markdown",
   "metadata": {},
   "source": [
    "3. Which of the basic data structures is the most suitable if you only need to insert the elements in the back and to extract elements from the front?"
   ]
  },
  {
   "cell_type": "markdown",
   "metadata": {},
   "source": [
    "Answer: Queue\n",
    "    \n",
    "Assertion: In queue type of data structures we insert from back and extract from front."
   ]
  },
  {
   "cell_type": "markdown",
   "metadata": {},
   "source": [
    "4. Which of the basic data structures is the most suitable if you only need to implement recursion in a programming language? When you make a recursive call, you need to save the function you are currently in and its parameters values in some data structure, so that when you go out of the recursion you can restore the state. When you go out of the recursive call, you will always need to extract the last element that was put in the data structure."
   ]
  },
  {
   "cell_type": "markdown",
   "metadata": {},
   "source": [
    "Answer: Stack\n",
    "    \n",
    "Assertion: We put the function and its parameters values on the stack when we make recursive call, and remove the top element of the stack when we go out of the recursive call. Stack is LIFO - last in first out, so It will always extract the last element that was put on the stack."
   ]
  },
  {
   "cell_type": "markdown",
   "metadata": {},
   "source": [
    "5. Which of the basic data structures is the most suitable if you need to store the directory structure on your hard drive?"
   ]
  },
  {
   "cell_type": "markdown",
   "metadata": {},
   "source": [
    "Answer: Tree\n",
    "    \n",
    "Assertion: The directory structure is a tree, so it is good to store it as a tree data structure."
   ]
  }
 ],
 "metadata": {
  "kernelspec": {
   "display_name": "Python 3",
   "language": "python",
   "name": "python3"
  },
  "language_info": {
   "codemirror_mode": {
    "name": "ipython",
    "version": 3
   },
   "file_extension": ".py",
   "mimetype": "text/x-python",
   "name": "python",
   "nbconvert_exporter": "python",
   "pygments_lexer": "ipython3",
   "version": "3.8.2"
  }
 },
 "nbformat": 4,
 "nbformat_minor": 4
}
